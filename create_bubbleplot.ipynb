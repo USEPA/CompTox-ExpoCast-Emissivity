{
 "cells": [
  {
   "cell_type": "code",
   "execution_count": 20,
   "metadata": {},
   "outputs": [],
   "source": [
    "import matplotlib.pyplot as plt\n",
    "import numpy as np\n",
    "import pandas as pd"
   ]
  },
  {
   "cell_type": "markdown",
   "metadata": {},
   "source": [
    "# Load the data"
   ]
  },
  {
   "cell_type": "code",
   "execution_count": 3,
   "metadata": {},
   "outputs": [],
   "source": [
    "# Load the data\n",
    "DATA_EXCEL_PATH = \"\"\n",
    "DATA_SHEET_NAME = \"\"\n",
    "df = pd.read_excel(DATA_EXCEL_PATH, sheet_name=DATA_SHEET_NAME)"
   ]
  },
  {
   "cell_type": "code",
   "execution_count": null,
   "metadata": {},
   "outputs": [],
   "source": [
    "# View the data\n",
    "df"
   ]
  },
  {
   "cell_type": "markdown",
   "metadata": {},
   "source": [
    "# Make the bubble plots"
   ]
  },
  {
   "cell_type": "code",
   "execution_count": null,
   "metadata": {},
   "outputs": [],
   "source": [
    "plt.scatter(df['RT1'], df['RT2'], s=df['ALL LIQ Sum'], c='blue', alpha=0.5)\n",
    "plt.xlabel('RT 1 (s)')\n",
    "plt.ylabel('RT 2 (s)')\n",
    "plt.title('Liquid extraction')\n",
    "plt.tight_layout()\n",
    "plt.savefig('bubbleplot_liq.png', dpi=300)"
   ]
  },
  {
   "cell_type": "code",
   "execution_count": null,
   "metadata": {},
   "outputs": [],
   "source": [
    "plt.scatter(df['RT1'], df['RT2'], s=df['ALL HT Sum'], c='red', alpha=0.5)\n",
    "plt.xlabel('RT 1 (s)')\n",
    "plt.ylabel('RT 2 (s)')\n",
    "plt.title('High temperature')\n",
    "plt.tight_layout()\n",
    "plt.savefig('bubbleplot_th.png', dpi=300)"
   ]
  },
  {
   "cell_type": "code",
   "execution_count": null,
   "metadata": {},
   "outputs": [],
   "source": [
    "plt.scatter(df['RT1'], df['RT2'], s=df['ALL LT Sum'], c='green', alpha=0.5)\n",
    "plt.xlabel('RT 1 (s)')\n",
    "plt.ylabel('RT 2 (s)')\n",
    "plt.title('Low temperature')\n",
    "plt.tight_layout()\n",
    "plt.savefig('bubbleplot_tl.png', dpi=300)"
   ]
  },
  {
   "cell_type": "markdown",
   "metadata": {},
   "source": [
    "## Make the combined plot"
   ]
  },
  {
   "cell_type": "code",
   "execution_count": null,
   "metadata": {},
   "outputs": [],
   "source": [
    "fig, (ax1, ax2, ax3) = plt.subplots(ncols=3, sharey='row', figsize=(15, 5))\n",
    "ax1.set_title('LIQ')\n",
    "ax1.set_xlabel('RT1 (s)')\n",
    "ax1.set_ylabel('RT2 (s)')\n",
    "ax1.scatter(df['RT1'], df['RT2'], s=df['ALL LIQ Sum'], c='blue', alpha=0.5)\n",
    "ax2.set_title('$\\mathregular{T_H}$')\n",
    "ax2.set_xlabel('RT1 (s)')\n",
    "ax2.scatter(df['RT1'], df['RT2'], s=df['ALL HT Sum'], c='red', alpha=0.5)\n",
    "ax3.set_title('$\\mathregular{T_L}$')\n",
    "ax3.set_xlabel('RT1 (s)')\n",
    "ax3.scatter(df['RT1'], df['RT2'], s=df['ALL LT Sum'], c='green', alpha=0.5)\n",
    "fig.savefig('bubbleplot_combined.png', dpi=300)"
   ]
  },
  {
   "cell_type": "markdown",
   "metadata": {},
   "source": [
    "# Make the normalized bubble plots"
   ]
  },
  {
   "cell_type": "code",
   "execution_count": null,
   "metadata": {},
   "outputs": [],
   "source": [
    "plt.scatter(df['RT1'], df['RT2'], s=1000*(df['ALL LIQ Sum'] - df['ALL LIQ Sum'].min())/np.ptp(df['ALL LIQ Sum']), c='blue', alpha=0.5)\n",
    "plt.xlabel('RT 1 (s)')\n",
    "plt.ylabel('RT 2 (s)')\n",
    "plt.title('Liquid extraction')\n",
    "plt.tight_layout()\n",
    "plt.savefig('bubbleplot_liq_normalized.png', dpi=300)"
   ]
  },
  {
   "cell_type": "code",
   "execution_count": null,
   "metadata": {},
   "outputs": [],
   "source": [
    "plt.scatter(df['RT1'], df['RT2'], s=1000*(df['ALL HT Sum'] - df['ALL HT Sum'].min())/np.ptp(df['ALL HT Sum']), c='red', alpha=0.5)\n",
    "plt.xlabel('RT 1 (s)')\n",
    "plt.ylabel('RT 2 (s)')\n",
    "plt.title('High temperature')\n",
    "plt.tight_layout()\n",
    "plt.savefig('bubbleplot_th_normalized.png', dpi=300)"
   ]
  },
  {
   "cell_type": "code",
   "execution_count": null,
   "metadata": {},
   "outputs": [],
   "source": [
    "plt.scatter(df['RT1'], df['RT2'], s=1000*(df['ALL LT Sum'] - df['ALL LT Sum'].min())/np.ptp(df['ALL LT Sum']), c='green', alpha=0.5)\n",
    "plt.xlabel('RT 1 (s)')\n",
    "plt.ylabel('RT 2 (s)')\n",
    "plt.title('Low temperature')\n",
    "plt.tight_layout()\n",
    "plt.savefig('bubbleplot_tl_normalized.png', dpi=300)"
   ]
  },
  {
   "cell_type": "markdown",
   "metadata": {},
   "source": [
    "## Make the combined plot"
   ]
  },
  {
   "cell_type": "code",
   "execution_count": null,
   "metadata": {},
   "outputs": [],
   "source": [
    "fig, (ax1, ax2, ax3) = plt.subplots(ncols=3, sharey='row', figsize=(15, 5))\n",
    "ax1.set_title('LIQ')\n",
    "ax1.set_xlabel('RT1 (s)')\n",
    "ax1.set_ylabel('RT2 (s)')\n",
    "ax1.scatter(df['RT1'], df['RT2'], s=1000*(df['ALL LIQ Sum']-df['ALL LIQ Sum'].min())/np.ptp(df['ALL LIQ Sum']), c='blue', alpha=0.5)\n",
    "ax2.set_title('$\\mathregular{T_H}$')\n",
    "ax2.set_xlabel('RT1 (s)')\n",
    "ax2.scatter(df['RT1'], df['RT2'], s=1000*(df['ALL LT Sum']-df['ALL LT Sum'].min())/np.ptp(df['ALL LT Sum']), c='red', alpha=0.5)\n",
    "ax3.set_title('$\\mathregular{T_L}$')\n",
    "ax3.set_xlabel('RT1 (s)')\n",
    "ax3.scatter(df['RT1'], df['RT2'], s=1000*(df['ALL HT Sum']-df['ALL HT Sum'].min())/np.ptp(df['ALL HT Sum']), c='green', alpha=0.5)\n",
    "fig.savefig('bubbleplot_normalized_combined.png', dpi=300)"
   ]
  },
  {
   "cell_type": "markdown",
   "metadata": {},
   "source": [
    "# Calculate centroids"
   ]
  },
  {
   "cell_type": "code",
   "execution_count": null,
   "metadata": {},
   "outputs": [],
   "source": [
    "np.mean(df[['RT1', 'RT2']], axis=0)"
   ]
  },
  {
   "cell_type": "code",
   "execution_count": null,
   "metadata": {},
   "outputs": [],
   "source": [
    "np.average(df[['RT1', 'RT2']], weights=df['ALL LIQ Sum'], axis=0)"
   ]
  },
  {
   "cell_type": "code",
   "execution_count": null,
   "metadata": {},
   "outputs": [],
   "source": [
    "np.average(df[['RT1', 'RT2']], weights=df['ALL HT Sum'], axis=0)"
   ]
  },
  {
   "cell_type": "code",
   "execution_count": null,
   "metadata": {},
   "outputs": [],
   "source": [
    "np.average(df[['RT1', 'RT2']], weights=df['ALL LT Sum'], axis=0)"
   ]
  }
 ],
 "metadata": {
  "kernelspec": {
   "display_name": "base",
   "language": "python",
   "name": "python3"
  },
  "language_info": {
   "codemirror_mode": {
    "name": "ipython",
    "version": 3
   },
   "file_extension": ".py",
   "mimetype": "text/x-python",
   "name": "python",
   "nbconvert_exporter": "python",
   "pygments_lexer": "ipython3",
   "version": "3.11.7"
  }
 },
 "nbformat": 4,
 "nbformat_minor": 2
}
