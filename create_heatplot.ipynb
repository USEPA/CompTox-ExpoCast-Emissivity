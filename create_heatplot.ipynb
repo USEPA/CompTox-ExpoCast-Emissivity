{
 "cells": [
  {
   "cell_type": "markdown",
   "id": "e28c888b-7a3c-4e82-80d9-87006a0e1b69",
   "metadata": {},
   "source": [
    "# Creates the overall compound level heatplots, grouped by compound class and extraction/emission"
   ]
  },
  {
   "cell_type": "markdown",
   "id": "d9cc5585-da7e-48ee-8f33-be058099304d",
   "metadata": {},
   "source": [
    "### Load the libraries and data"
   ]
  },
  {
   "cell_type": "code",
   "execution_count": 1,
   "id": "1376855e-cbcd-438e-be7b-5375f14249a9",
   "metadata": {},
   "outputs": [],
   "source": [
    "import numpy as np\n",
    "import pandas as pd\n",
    "import matplotlib\n",
    "import matplotlib.cm as cm\n",
    "import matplotlib.patches as patches\n",
    "import matplotlib.pyplot as plt"
   ]
  },
  {
   "cell_type": "code",
   "execution_count": 2,
   "id": "9c84ce31-92fb-4c52-ab51-37151b7e3dbf",
   "metadata": {},
   "outputs": [],
   "source": [
    "# Load the data\n",
    "DATA_EXCEL_PATH = \"\"\n",
    "DATA_SHEET_NAME = \"\"\n",
    "df = pd.read_excel(DATA_EXCEL_PATH, sheet_name=DATA_SHEET_NAME)"
   ]
  },
  {
   "cell_type": "markdown",
   "id": "7fd8c71d-94ca-4fd6-88dd-1312508fdad1",
   "metadata": {},
   "source": [
    "### Explore and process the data"
   ]
  },
  {
   "cell_type": "code",
   "execution_count": 3,
   "id": "af01624b",
   "metadata": {},
   "outputs": [],
   "source": [
    "# Do dilution aggregation\n",
    "new_col = np.where(df['627811 LIQ 50x'] == 0, df['627811 LIQ 5x_Result'], df['627811 LIQ 50x'])\n",
    "df.drop(columns='627811 LIQ 5x_Result')\n",
    "df['627811 LIQ 50x'] = new_col"
   ]
  },
  {
   "cell_type": "code",
   "execution_count": 4,
   "id": "d2da6ddc",
   "metadata": {},
   "outputs": [],
   "source": [
    "# Replace 0s with NaNs to color them separately\n",
    "df.replace(0, np.nan, inplace=True)"
   ]
  },
  {
   "cell_type": "code",
   "execution_count": null,
   "id": "56c9d5de",
   "metadata": {},
   "outputs": [],
   "source": [
    "# How many NaN-only?\n",
    "np.isnan(df.iloc[:, 10:-3]).all(axis=1).sum()"
   ]
  },
  {
   "cell_type": "code",
   "execution_count": null,
   "id": "92fc6413",
   "metadata": {},
   "outputs": [],
   "source": [
    "# Drop NaN only\n",
    "df.dropna(axis=1, how='all', inplace=True)\n",
    "df = df[~np.isnan(df.iloc[:, 10:-3]).all(axis=1)]\n",
    "orig_df = df.copy()\n",
    "df.shape"
   ]
  },
  {
   "cell_type": "code",
   "execution_count": null,
   "id": "61d9da94-0046-4d24-ad0b-d59cea03e43e",
   "metadata": {},
   "outputs": [],
   "source": [
    "# See which master classes we have\n",
    "df['Master Class'].unique()"
   ]
  },
  {
   "cell_type": "code",
   "execution_count": 8,
   "id": "7bcf9d77",
   "metadata": {},
   "outputs": [],
   "source": [
    "# Rename classes for viewing simplicity\n",
    "def convert_class(master_class):\n",
    "    if master_class in {'aromatic - halogen', 'aromatic - halogen, nitrogen',\n",
    "       'aromatic - halogen, nitrogen, oxygen',\n",
    "       'aromatic - halogen, sulfur, nitrogen, oxygen',\n",
    "       'aromatic - metallic', 'aromatic - nitrogen',\n",
    "       'aromatic - nitrogen, oxygen', 'aromatic - oxygen',\n",
    "       'aromatic - oxygen: phthalate', 'aromatic - phosphate',\n",
    "       'aromatic - sulfur', 'aromatic - sulfur, halogen, nitrogen',\n",
    "       'aromatic - sulfur, nitrogen',\n",
    "       'aromatic - sulfur, nitrogen, oxygen', 'aromatic - sulfur, oxygen'}:\n",
    "        return 'Aromatic heteroatom'\n",
    "    elif master_class == 'aromatic hydrocarbon':\n",
    "        return 'Aromatic hydrocarbon'\n",
    "    elif master_class == 'glycol':\n",
    "        return 'Glycol'\n",
    "    elif master_class in {'hydrocarbon', 'hydrocarbon: n-alkane', 'hydrocarbon: terpene'}:\n",
    "        return 'Hydrocarbon'\n",
    "    elif master_class in {'long chain alcohol, acid, amide, ester or ether'}:\n",
    "        return 'Long chain heteroatom'\n",
    "    elif master_class in {'non-aromatic - halogen', 'non-aromatic - halogen, oxygen',\n",
    "       'non-aromatic - halogen, phosphate',\n",
    "       'non-aromatic - halogen, phosphorus', 'non-aromatic - nitrogen',\n",
    "       'non-aromatic - nitrogen, oxygen', 'non-aromatic - oxygen',\n",
    "       'non-aromatic - phosphate', 'non-aromatic - sulfur',\n",
    "       'non-aromatic - sulfur, halogen, nitrogen, oxygen',\n",
    "       'non-aromatic - sulfur, nitrogen',\n",
    "       'non-aromatic - sulfur, nitrogen, oxygen'}:\n",
    "        return 'Non-aromatic heteroatom'\n",
    "    elif master_class == 'sterol and hopane':\n",
    "        return 'Sterol/hopane'\n",
    "    else:\n",
    "        return 'Unknown/unclassified'"
   ]
  },
  {
   "cell_type": "code",
   "execution_count": 9,
   "id": "aafd6fd4",
   "metadata": {},
   "outputs": [],
   "source": [
    "# Simplify for display purposes\n",
    "df = df[~df['Master Class'].isin({'sulfur', 'siloxane', 'Vitamin E derivative', 'sterol and hopane'})]\n",
    "df['Display Class'] = df['Master Class'].map(convert_class)\n",
    "orig_df['Display Class'] = df['Master Class'].map(convert_class)\n",
    "df.sort_values(by=['Display Class', 'RT1'], ascending=True, inplace=True)"
   ]
  },
  {
   "cell_type": "code",
   "execution_count": null,
   "id": "6f23f0cc",
   "metadata": {},
   "outputs": [],
   "source": [
    "# Percentage of non-zero (non-NaN) data\n",
    "100*np.count_nonzero(~np.isnan(df.iloc[:, 10:-3].values.ravel()))/df.iloc[:, 10:-3].values.size"
   ]
  },
  {
   "cell_type": "code",
   "execution_count": null,
   "id": "ff906644",
   "metadata": {},
   "outputs": [],
   "source": [
    "# See where we're at now\n",
    "df"
   ]
  },
  {
   "cell_type": "code",
   "execution_count": null,
   "id": "c9e8a6e6",
   "metadata": {},
   "outputs": [],
   "source": [
    "# Get the absolute number of non-zero (non-NaN) compounds\n",
    "np.count_nonzero((~np.isnan(orig_df.iloc[:, 10:-3]))), np.count_nonzero((~np.isnan(df.iloc[:, 10:-3])))"
   ]
  },
  {
   "cell_type": "code",
   "execution_count": 13,
   "id": "31bdca61",
   "metadata": {},
   "outputs": [],
   "source": [
    "# Remove compounds that aren't present enough or that are in one of the ignored classes\n",
    "filtered_df = orig_df[((~np.isnan(orig_df.iloc[:, 10:-3])).sum(axis=1) > 4) & ~orig_df['Master Class'].isin({'sulfur', 'siloxane', 'Vitamin E derivative', 'sterol and hopane'})]"
   ]
  },
  {
   "cell_type": "code",
   "execution_count": null,
   "id": "481a4232",
   "metadata": {},
   "outputs": [],
   "source": [
    "# Get how many are left\n",
    "orig_df.shape, filtered_df.shape"
   ]
  },
  {
   "cell_type": "code",
   "execution_count": 16,
   "id": "0e6e2692",
   "metadata": {},
   "outputs": [],
   "source": [
    "# Get the indices of the different sections\n",
    "cols = tuple(df.iloc[:, 10:-3].columns)\n",
    "a1_39_liq = (cols.index('627343 LIQ 10x_Result'), cols.index('628248 LIQ 25x_Result')+1)\n",
    "a1_39_ht = (cols.index('627343 HT 1x_A2'), cols.index('628248 HT 5x_A3')+1)\n",
    "a1_39_lt = (cols.index('627343 LT 1x_Result'), cols.index('628248 LT 1x_Result')+1)\n",
    "c1_21_ht = (cols.index('607144 HT 1x_A1'), cols.index('607877 D HT 1x_A2')+1)\n",
    "c1_21_lt = (cols.index('607144 LT 1x_Result'), cols.index('607877 D LT 1x_Result')+1)\n",
    "b1_21_ht = (cols.index('660783 HT 5x_A3'), cols.index('661142 HT 5x_A3')+1)\n",
    "b1_21_lt = (cols.index('660783 LT 1x_Result'), cols.index('661142 LT 1x_Result')+1)"
   ]
  },
  {
   "cell_type": "code",
   "execution_count": 17,
   "id": "e06ada31",
   "metadata": {},
   "outputs": [],
   "source": [
    "# Get the columns that correspond\n",
    "a1_39_liq_cols = cols[slice(*a1_39_liq)]\n",
    "a1_39_ht_cols = cols[slice(*a1_39_ht)]\n",
    "a1_39_lt_cols = cols[slice(*a1_39_lt)]\n",
    "b1_21_ht_cols = cols[slice(*b1_21_ht)]\n",
    "b1_21_lt_cols = cols[slice(*b1_21_lt)]\n",
    "c1_21_ht_cols = cols[slice(*c1_21_ht)]\n",
    "c1_21_lt_cols = cols[slice(*c1_21_lt)]"
   ]
  },
  {
   "cell_type": "code",
   "execution_count": null,
   "id": "8a896ad0",
   "metadata": {},
   "outputs": [],
   "source": [
    "# Get the number non-zero (non-NaN)\n",
    "np.count_nonzero((~np.isnan(filtered_df[list(a1_39_liq_cols)].iloc[:, 10:-3]))),\\\n",
    "np.count_nonzero((~np.isnan(filtered_df[list(a1_39_ht_cols + b1_21_ht_cols + c1_21_ht_cols)].iloc[:, 10:-3]))),\\\n",
    "np.count_nonzero((~np.isnan(filtered_df[list(a1_39_lt_cols + b1_21_lt_cols + c1_21_lt_cols)].iloc[:, 10:-3])))"
   ]
  },
  {
   "cell_type": "code",
   "execution_count": null,
   "id": "40a412ba",
   "metadata": {},
   "outputs": [],
   "source": [
    "# How many per class?\n",
    "filtered_df['Display Class'].value_counts()"
   ]
  },
  {
   "cell_type": "markdown",
   "id": "7417c46b-8eb8-4759-b18e-b6f90dcf0e40",
   "metadata": {},
   "source": [
    "### Rearrange the columns"
   ]
  },
  {
   "cell_type": "code",
   "execution_count": 20,
   "id": "a3f13ef3",
   "metadata": {},
   "outputs": [],
   "source": [
    "# Sort the columns\n",
    "df = df[list(tuple(df.columns[:10]) + a1_39_liq_cols + a1_39_ht_cols + a1_39_lt_cols + b1_21_ht_cols + b1_21_lt_cols + c1_21_ht_cols + c1_21_lt_cols + tuple(df.columns[-3:]))]"
   ]
  },
  {
   "cell_type": "code",
   "execution_count": 21,
   "id": "f2dbe985",
   "metadata": {},
   "outputs": [],
   "source": [
    "# Do it again so we have the new indices\n",
    "cols = tuple(df.iloc[:, 10:-3].columns)\n",
    "a1_39_liq = (cols.index('627343 LIQ 10x_Result'), cols.index('628248 LIQ 25x_Result')+1)\n",
    "a1_39_ht = (cols.index('627343 HT 1x_A2'), cols.index('628248 HT 5x_A3')+1)\n",
    "a1_39_lt = (cols.index('627343 LT 1x_Result'), cols.index('628248 LT 1x_Result')+1)\n",
    "c1_21_ht = (cols.index('607144 HT 1x_A1'), cols.index('607877 D HT 1x_A2')+1)\n",
    "c1_21_lt = (cols.index('607144 LT 1x_Result'), cols.index('607877 D LT 1x_Result')+1)\n",
    "b1_21_ht = (cols.index('660783 HT 5x_A3'), cols.index('661142 HT 5x_A3')+1)\n",
    "b1_21_lt = (cols.index('660783 LT 1x_Result'), cols.index('661142 LT 1x_Result')+1)"
   ]
  },
  {
   "cell_type": "code",
   "execution_count": 22,
   "id": "9cd941b4",
   "metadata": {},
   "outputs": [],
   "source": [
    "# Get the hex color for a given colormap and value\n",
    "def get_hex(cmap, val):\n",
    "    rgba = cmap(val)\n",
    "    rgb = (int(rgba[0]*255), int(rgba[1]*255), int(rgba[2]*255))\n",
    "    return '#%0.2X'%rgb[0] + '%0.2X'%rgb[1] + '%0.2X'%rgb[2]"
   ]
  },
  {
   "cell_type": "markdown",
   "id": "08dfecd6-3fcd-4e70-8678-785fa990c420",
   "metadata": {},
   "source": [
    "### Make the colorbars and heatplots"
   ]
  },
  {
   "cell_type": "code",
   "execution_count": 29,
   "id": "8c20fd8c",
   "metadata": {},
   "outputs": [],
   "source": [
    "as_np = df.iloc[:, 10:-3].values"
   ]
  },
  {
   "cell_type": "code",
   "execution_count": 45,
   "id": "9f9c89d2",
   "metadata": {},
   "outputs": [],
   "source": [
    "cmap = cm.coolwarm"
   ]
  },
  {
   "cell_type": "code",
   "execution_count": null,
   "id": "a230c09a",
   "metadata": {},
   "outputs": [],
   "source": [
    "# Make the colorbar\n",
    "v = np.array([[np.log(np.nanquantile(as_np, 0.1)), np.log(np.nanquantile(as_np, 0.9))]])\n",
    "plt.figure(figsize=(9, 1.5))\n",
    "img = plt.imshow(v, cmap=cmap)\n",
    "plt.gca().set_visible(False)\n",
    "cax = plt.axes([0.1, 0.2, 0.8, 0.6])\n",
    "cbar = plt.colorbar(orientation=\"horizontal\", cax=cax, norm=matplotlib.colors.LogNorm(), ticks=[np.log(np.nanquantile(as_np, 0.1)), np.log(np.nanquantile(as_np, 0.5)), np.log(np.nanquantile(as_np, 0.9))])\n",
    "cbar.ax.set_xticklabels([\n",
    "    '{}\\n(10ᵗʰ percentile)'.format(round(np.nanquantile(as_np, 0.1), 3)),\n",
    "    '{}\\n(50ᵗʰ percentile)'.format(round(np.nanquantile(as_np, 0.5), 3)),\n",
    "    '{}\\n(90ᵗʰ percentile)'.format(round(np.nanquantile(as_np, 0.9), 3))])\n",
    "cbar.ax.set_title('Log-scaled estimated sample abundance in μg/g')\n",
    "plt.text(0, 0.33, '   Max:\\n254 μg/g')\n",
    "plt.text(-6.5, 0.33, '      Min:\\n5×10⁻⁵ μg/g')\n",
    "# plt.savefig('colorbar.png', dpi=300, bbox_inches='tight')"
   ]
  },
  {
   "cell_type": "code",
   "execution_count": null,
   "id": "9cb2b293",
   "metadata": {},
   "outputs": [],
   "source": [
    "# A vertical version\n",
    "v = np.array([[np.exp(-5), np.exp(-0.3)]])\n",
    "plt.figure(figsize=(1.5, 9))\n",
    "img = plt.imshow(v, cmap=cmap)\n",
    "plt.gca().set_visible(False)\n",
    "cax = plt.axes([0.1, 0.2, 0.8, 0.6])\n",
    "plt.colorbar(orientation=\"vertical\", cax=cax, label='Estimated concentration in μg/g', norm=matplotlib.colors.LogNorm())\n",
    "# plt.savefig('colorbar.png', dpi=300, bbox_inches='tight')\n",
    "np.exp(-5), np.exp(-0.3)"
   ]
  },
  {
   "cell_type": "code",
   "execution_count": null,
   "id": "a13c5223",
   "metadata": {},
   "outputs": [],
   "source": [
    "# Make the full heatplot and label/color appropriately\n",
    "a = np.log(df.iloc[:, 10:-3])\n",
    "masked_array = np.ma.array(a, mask=np.isnan(a))\n",
    "cmap.set_bad('black', 1.)\n",
    "plt.imshow(masked_array, interpolation='nearest', aspect='auto', cmap=cmap, vmin=np.log(np.nanquantile(as_np, 0.1)), vmax=np.log(np.nanquantile(as_np, 0.9)))\n",
    "for cls in ('Aromatic heteroatom', 'Aromatic hydrocarbon', 'Glycol', 'Hydrocarbon', 'Long chain heteroatom', 'Non-aromatic heteroatom'):\n",
    "    plt.axhline(np.where(df['Display Class'] == cls)[0].max(), c='w')\n",
    "for group in (a1_39_liq, a1_39_ht, a1_39_lt, b1_21_ht, b1_21_lt, c1_21_ht):\n",
    "    plt.axvline(group[1], c='w')\n",
    "cuf = patches.Rectangle((122, 380), 382, 110, zorder=-1, color='salmon', alpha=0.75)\n",
    "rp = patches.Rectangle((505, 380), 112, 110, zorder=-1, color='skyblue', alpha=0.75)\n",
    "plt.gcf().patches.extend([cuf, rp])\n",
    "plt.text((a1_39_liq[0] + a1_39_liq[1])//2 - 8, -20, '  LIQ\\nA1-39')\n",
    "plt.text((a1_39_ht[0] + a1_39_ht[1])//2 - 8, -20, '   $\\mathregular{T_H}$\\nA1-39')\n",
    "plt.text((a1_39_lt[0] + a1_39_lt[1])//2 - 8, -20, '   $\\mathregular{T_L}$\\nA1-39')\n",
    "plt.text((b1_21_ht[0] + b1_21_ht[1])//2 - 8, -20, '   $\\mathregular{T_H}$\\nB1-21')\n",
    "plt.text((b1_21_lt[0] + b1_21_lt[1])//2 - 8, -20, '   $\\mathregular{T_H}$\\nB1-21')\n",
    "plt.text((c1_21_ht[0] + c1_21_ht[1])//2 - 8, -20, '   $\\mathregular{T_H}$\\nC1-21')\n",
    "plt.text((c1_21_lt[0] + c1_21_lt[1])//2 - 8, -20, '   $\\mathregular{T_H}$\\nC1-21')\n",
    "plt.text(36, -240, 'Clothing, upholstery, fabric (CUF)')\n",
    "plt.text(178, -210, '   Rubber,\\nplastic (RP)')\n",
    "plt.text(-44, np.where(df['Display Class'] == 'Aromatic heteroatom')[0].max()-120, '  Aromatic\\nheteroatom')\n",
    "plt.text(-45, np.where(df['Display Class'] == 'Aromatic hydrocarbon')[0].max()-50, '  Aromatic\\nhydrocarbon')\n",
    "plt.text(-35, np.where(df['Display Class'] == 'Glycol')[0].max()-30, 'Glycol')\n",
    "plt.text(-45, np.where(df['Display Class'] == 'Hydrocarbon')[0].max()-80, 'Hydrocarbon')\n",
    "plt.text(-44, np.where(df['Display Class'] == 'Long chain heteroatom')[0].max()-50, ' Long chain\\nheteroatom')\n",
    "plt.text(-50, np.where(df['Display Class'] == 'Non-aromatic heteroatom')[0].max(), ' Non-aromatic\\n  heteroatom')\n",
    "plt.text(-44, np.where(df['Display Class'] == 'Unknown/unclassified')[0].max()-300, ' Unknown/\\nunclassified')\n",
    "plt.xticks([])\n",
    "plt.yticks([])\n",
    "#plt.savefig('Heatplot_1.png', bbox_inches='tight')"
   ]
  },
  {
   "cell_type": "code",
   "execution_count": null,
   "id": "295d7bce",
   "metadata": {},
   "outputs": [],
   "source": [
    "# Make the first section of the heatplot and label/color appropriately\n",
    "a = np.log(df.iloc[:920, 10:-3])\n",
    "masked_array = np.ma.array(a, mask=np.isnan(a))\n",
    "cmap.set_bad('black', 1.)\n",
    "plt.imshow(masked_array, interpolation='nearest', aspect='auto', cmap=cmap, vmin=np.log(np.nanquantile(as_np, 0.1)), vmax=np.log(np.nanquantile(as_np, 0.9)))\n",
    "for cls in ('Aromatic heteroatom', 'Aromatic hydrocarbon', 'Glycol'):\n",
    "    plt.axhline(np.where(df['Display Class'] == cls)[0].max(), c='w')\n",
    "for group in (a1_39_liq, a1_39_ht, a1_39_lt, b1_21_ht, b1_21_lt, c1_21_ht):\n",
    "    plt.axvline(group[1], c='w')\n",
    "cuf = patches.Rectangle((110, 380), 384, 110, zorder=-1, color='salmon', alpha=0.75)\n",
    "rp = patches.Rectangle((495, 380), 112, 110, zorder=-1, color='skyblue', alpha=0.75)\n",
    "plt.gcf().patches.extend([cuf, rp])\n",
    "plt.text((a1_39_liq[0] + a1_39_liq[1])//2 - 8, -20, '  LIQ\\nA1-39')\n",
    "plt.text((a1_39_ht[0] + a1_39_ht[1])//2 - 8, -20, '   $\\mathregular{T_H}$\\nA1-39')\n",
    "plt.text((a1_39_lt[0] + a1_39_lt[1])//2 - 8, -20, '   $\\mathregular{T_L}$\\nA1-39')\n",
    "plt.text((b1_21_ht[0] + b1_21_ht[1])//2 - 8, -20, '   $\\mathregular{T_H}$\\nB1-21')\n",
    "plt.text((b1_21_lt[0] + b1_21_lt[1])//2 - 8, -20, '   $\\mathregular{T_H}$\\nB1-21')\n",
    "plt.text((c1_21_ht[0] + c1_21_ht[1])//2 - 8, -20, '   $\\mathregular{T_H}$\\nC1-21')\n",
    "plt.text((c1_21_lt[0] + c1_21_lt[1])//2 - 8, -20, '   $\\mathregular{T_H}$\\nC1-21')\n",
    "plt.text(36, -150, 'Clothing, upholstery, fabric (CUF)')\n",
    "plt.text(178, -130, '   Rubber,\\nplastic (RP)')\n",
    "plt.text(-44, np.where(df['Display Class'] == 'Aromatic heteroatom')[0].max()-120, '  Aromatic\\nheteroatom')\n",
    "plt.text(-45, np.where(df['Display Class'] == 'Aromatic hydrocarbon')[0].max()-50, '  Aromatic\\nhydrocarbon')\n",
    "plt.text(-35, np.where(df['Display Class'] == 'Glycol')[0].max()-30, 'Glycol')\n",
    "plt.text(-45, np.where(df['Display Class'] == 'Hydrocarbon')[0].max()-80, 'Hydrocarbon')\n",
    "plt.xticks([])\n",
    "plt.yticks([])\n",
    "#plt.savefig('Heatplot_1.png', bbox_inches='tight')"
   ]
  },
  {
   "cell_type": "code",
   "execution_count": null,
   "id": "1e28b4c3",
   "metadata": {},
   "outputs": [],
   "source": [
    "# Make the second section of the heatplot and label/color appropriately\n",
    "a = np.log(df.iloc[920:, 10:-3])\n",
    "masked_array = np.ma.array(a, mask=np.isnan(a))\n",
    "cmap.set_bad('black', 1.)\n",
    "plt.imshow(masked_array, interpolation='nearest', aspect='auto', cmap=cmap, vmin=np.log(np.nanquantile(as_np, 0.1)), vmax=np.log(np.nanquantile(as_np, 0.9)))\n",
    "for cls in ('Long chain heteroatom', 'Non-aromatic heteroatom'):\n",
    "    plt.axhline(np.where(df['Display Class'] == cls)[0].max()-920, c='w')\n",
    "for group in (a1_39_liq, a1_39_ht, a1_39_lt, b1_21_ht, b1_21_lt, c1_21_ht):\n",
    "    plt.axvline(group[1], c='w')\n",
    "cuf = patches.Rectangle((122, 380), 383, 110, zorder=-1, color='salmon', alpha=0.75)\n",
    "rp = patches.Rectangle((506, 380), 112, 110, zorder=-1, color='skyblue', alpha=0.75)\n",
    "plt.gcf().patches.extend([cuf, rp])\n",
    "plt.text((a1_39_liq[0] + a1_39_liq[1])//2 - 8, -20, '  LIQ\\nA1-39')\n",
    "plt.text((a1_39_ht[0] + a1_39_ht[1])//2 - 8, -20, '   $\\mathregular{T_H}$\\nA1-39')\n",
    "plt.text((a1_39_lt[0] + a1_39_lt[1])//2 - 8, -20, '   $\\mathregular{T_L}$\\nA1-39')\n",
    "plt.text((b1_21_ht[0] + b1_21_ht[1])//2 - 8, -20, '   $\\mathregular{T_H}$\\nB1-21')\n",
    "plt.text((b1_21_lt[0] + b1_21_lt[1])//2 - 8, -20, '   $\\mathregular{T_H}$\\nB1-21')\n",
    "plt.text((c1_21_ht[0] + c1_21_ht[1])//2 - 8, -20, '   $\\mathregular{T_H}$\\nC1-21')\n",
    "plt.text((c1_21_lt[0] + c1_21_lt[1])//2 - 8, -20, '   $\\mathregular{T_H}$\\nC1-21')\n",
    "plt.text(36, -150, 'Clothing, upholstery, fabric (CUF)')\n",
    "plt.text(178, -130, '   Rubber,\\nplastic (RP)')\n",
    "plt.text(-44, np.where(df['Display Class'] == 'Long chain heteroatom')[0].max()-990, ' Long chain\\nheteroatom')\n",
    "plt.text(-50, np.where(df['Display Class'] == 'Non-aromatic heteroatom')[0].max()-950, ' Non-aromatic\\n  heteroatom')\n",
    "plt.text(-44, np.where(df['Display Class'] == 'Unknown/unclassified')[0].max()-1210, ' Unknown/\\nunclassified')\n",
    "plt.xticks([])\n",
    "plt.yticks([])\n",
    "# plt.savefig('Heatplot_2.png', bbox_inches='tight')"
   ]
  }
 ],
 "metadata": {
  "kernelspec": {
   "display_name": "base",
   "language": "python",
   "name": "python3"
  },
  "language_info": {
   "codemirror_mode": {
    "name": "ipython",
    "version": 3
   },
   "file_extension": ".py",
   "mimetype": "text/x-python",
   "name": "python",
   "nbconvert_exporter": "python",
   "pygments_lexer": "ipython3",
   "version": "3.11.7"
  }
 },
 "nbformat": 4,
 "nbformat_minor": 5
}
