{
 "cells": [
  {
   "cell_type": "markdown",
   "id": "8680f0fa-0d80-4a32-a882-69fce10cab14",
   "metadata": {},
   "source": [
    "# Creates the separate and overlapping scatter plots"
   ]
  },
  {
   "cell_type": "markdown",
   "id": "ec14cdc6-feb5-4c03-b483-d93a62aefbaf",
   "metadata": {},
   "source": [
    "### Load the libraries and data"
   ]
  },
  {
   "cell_type": "code",
   "execution_count": null,
   "id": "b6eaf35c-cbf6-46e8-927f-ba1c0c632ae1",
   "metadata": {},
   "outputs": [],
   "source": [
    "import matplotlib.pyplot as plt\n",
    "import numpy as np\n",
    "import pandas as pd\n",
    "import matplotlib.lines as mlines\n",
    "from scipy.stats import gaussian_kde"
   ]
  },
  {
   "cell_type": "code",
   "execution_count": null,
   "id": "cc33810e",
   "metadata": {},
   "outputs": [],
   "source": [
    "# Load the data\n",
    "DATA_EXCEL_PATH = \"\"\n",
    "SHEET_NAME = \"\"\n",
    "df = pd.read_excel(DATA_EXCEL_PATH, sheet_name=SHEET_NAME)"
   ]
  },
  {
   "cell_type": "markdown",
   "id": "e3a772b4-ea11-41cf-bee0-f0c1cf6568e7",
   "metadata": {},
   "source": [
    "### Process the data"
   ]
  },
  {
   "cell_type": "code",
   "execution_count": null,
   "id": "40ee38f5",
   "metadata": {},
   "outputs": [],
   "source": [
    "# Get the appropriate columns\n",
    "lt_x = []\n",
    "lt_y = []\n",
    "ht_x = []\n",
    "ht_y = []\n",
    "liq_x = []\n",
    "liq_y = []\n",
    "for c in df.columns:\n",
    "    if 'LT' in c:\n",
    "        series = df.loc[df[c] > 0, ['RT1', 'RT2', c]]\n",
    "        lt_x.extend(series['RT1'])\n",
    "        lt_y.extend(series['RT2'])\n",
    "    elif 'HT' in c:\n",
    "        series = df.loc[df[c] > 0, ['RT1', 'RT2', c]]\n",
    "        ht_x.extend(series['RT1'])\n",
    "        ht_y.extend(series['RT2'])\n",
    "    elif 'LIQ' in c:\n",
    "        series = df.loc[df[c] > 0, ['RT1', 'RT2', c]]\n",
    "        liq_x.extend(series['RT1'])\n",
    "        liq_y.extend(series['RT2'])\n",
    "    else:\n",
    "        print('Skipping', c)"
   ]
  },
  {
   "cell_type": "code",
   "execution_count": null,
   "id": "b5345817",
   "metadata": {},
   "outputs": [],
   "source": [
    "# Perform the density estimation\n",
    "lt_xy = np.vstack([lt_x, lt_y])\n",
    "lt_z = gaussian_kde(lt_xy)(lt_xy)\n",
    "print(\"Done with LT\")\n",
    "ht_xy = np.vstack([ht_x, ht_y])\n",
    "ht_z = gaussian_kde(ht_xy)(ht_xy)\n",
    "print(\"Done with HT\")\n",
    "liq_xy = np.vstack([liq_x, liq_y])\n",
    "liq_z = gaussian_kde(liq_xy)(liq_xy)"
   ]
  },
  {
   "cell_type": "markdown",
   "id": "6a1b1ef9-8b45-4abc-a2d0-079212c62b60",
   "metadata": {},
   "source": [
    "### Create the plots"
   ]
  },
  {
   "cell_type": "code",
   "execution_count": null,
   "id": "8acb8f08",
   "metadata": {},
   "outputs": [],
   "source": [
    "# Create the three separate plots\n",
    "fig, (ax1, ax2, ax3) = plt.subplots(ncols=3, sharey='row', figsize=(15, 5))\n",
    "ax1.set_title('LIQ')\n",
    "ax1.set_xlabel('RT1 (s)')\n",
    "ax1.set_ylabel('RT2 (s)')\n",
    "ax1.scatter(liq_x, liq_y, c=liq_z**0.5, s=100, cmap='Blues')\n",
    "ax2.set_title('$\\mathregular{T_H}$')\n",
    "ax2.set_xlabel('RT1 (s)')\n",
    "ax2.scatter(ht_x, ht_y, c=ht_z**0.5, s=100, cmap='Reds')\n",
    "ax3.set_title('$\\mathregular{T_L}$')\n",
    "ax3.set_xlabel('RT1 (s)')\n",
    "ax3.scatter(lt_x, lt_y, c=lt_z**0.5, s=100, cmap='Greens')\n",
    "fig.savefig('scatter_3.png', dpi=300, bbox_inches='tight')"
   ]
  },
  {
   "cell_type": "code",
   "execution_count": null,
   "id": "4e1c2850",
   "metadata": {},
   "outputs": [],
   "source": [
    "# Create the overlay plot\n",
    "fig, ax = plt.subplots(figsize=(7, 5))\n",
    "ax.scatter(liq_x, liq_y, c=liq_z**0.5, s=100, alpha=0.05, cmap='Blues')\n",
    "ax.scatter(ht_x, ht_y, c=ht_z**0.5, s=100, alpha=0.05, cmap='Reds')\n",
    "ax.scatter(lt_x, lt_y, c=lt_z**0.5, s=100, alpha=0.05, cmap='Greens')\n",
    "lt_label = mlines.Line2D([], [], color='green', marker='o', alpha=0.5, linestyle='None',\n",
    "                          markersize=10, label='Low temperature')\n",
    "ht_label = mlines.Line2D([], [], color='red', marker='o', alpha=0.5, linestyle='None',\n",
    "                          markersize=10, label='High temperature')\n",
    "liq_label = mlines.Line2D([], [], color='blue', marker='o', alpha=0.5, linestyle='None',\n",
    "                          markersize=10, label='Liquid extraction')\n",
    "plt.xlabel('RT1 (s)')\n",
    "plt.ylabel('RT2 (s)')\n",
    "plt.title('Overlay')\n",
    "plt.legend(handles=[lt_label, ht_label, liq_label])\n",
    "plt.savefig(r'scatter_overlay_full_labels.png', dpi=300)"
   ]
  }
 ],
 "metadata": {
  "kernelspec": {
   "display_name": "Python 3 (ipykernel)",
   "language": "python",
   "name": "python3"
  },
  "language_info": {
   "codemirror_mode": {
    "name": "ipython",
    "version": 3
   },
   "file_extension": ".py",
   "mimetype": "text/x-python",
   "name": "python",
   "nbconvert_exporter": "python",
   "pygments_lexer": "ipython3",
   "version": "3.11.7"
  }
 },
 "nbformat": 4,
 "nbformat_minor": 5
}
